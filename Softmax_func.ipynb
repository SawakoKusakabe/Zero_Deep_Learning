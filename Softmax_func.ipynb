{
 "cells": [
  {
   "cell_type": "code",
   "execution_count": 15,
   "metadata": {},
   "outputs": [
    {
     "name": "stdout",
     "output_type": "stream",
     "text": [
      "1010\n",
      "[  0 -10 -20]\n"
     ]
    },
    {
     "data": {
      "text/plain": [
       "array([9.99954600e-01, 4.53978686e-05, 2.06106005e-09])"
      ]
     },
     "execution_count": 15,
     "metadata": {},
     "output_type": "execute_result"
    }
   ],
   "source": [
    "import numpy as np\n",
    "\n",
    "def softmax(a):\n",
    "#    a = np.array([0.3, 2.9, 4.0])\n",
    "\n",
    "    exp_a = np.exp(a) #　指数関数\n",
    "#    print(exp_a)\n",
    "\n",
    "    sum_exp_a = np.sum(exp_a) # 指数関数\n",
    "    print(sum_exp_a)\n",
    "\n",
    "    y = exp_a / sum_exp_a\n",
    "#    print(y)\n",
    "\n",
    "\n",
    "a = np.array([1010,1000, 990])\n",
    "c = np.max(a) \n",
    "\n",
    "print(c)\n",
    "\n",
    "a - c\n",
    "print(a - c)\n",
    "\n",
    "np.exp(a - c) / np.sum(np.exp(a - c))"
   ]
  },
  {
   "cell_type": "code",
   "execution_count": null,
   "metadata": {},
   "outputs": [],
   "source": []
  }
 ],
 "metadata": {
  "kernelspec": {
   "display_name": "Python 3",
   "language": "python",
   "name": "python3"
  },
  "language_info": {
   "codemirror_mode": {
    "name": "ipython",
    "version": 3
   },
   "file_extension": ".py",
   "mimetype": "text/x-python",
   "name": "python",
   "nbconvert_exporter": "python",
   "pygments_lexer": "ipython3",
   "version": "3.6.4"
  }
 },
 "nbformat": 4,
 "nbformat_minor": 2
}

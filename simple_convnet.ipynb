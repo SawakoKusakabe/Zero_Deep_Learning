{
 "cells": [
  {
   "cell_type": "code",
   "execution_count": 1,
   "metadata": {},
   "outputs": [
    {
     "name": "stdout",
     "output_type": "stream",
     "text": [
      "(9, 75)\n",
      "(90, 75)\n"
     ]
    }
   ],
   "source": [
    "import sys, os\n",
    "from common.util import im2col\n",
    "import numpy as np\n",
    "\n",
    "class SimpleConvNet:\n",
    "    def__inf__(self, input_dim=(1,28,28),\n",
    "              conv_param={'filter_num':30, 'filter_size':5,'pad':0, 'stride':1},\n",
    "               hidden_size=100, out_size=10, weight_init_std=0.01):\n",
    "        filter_num = conv_param['filter_num']\n",
    "        filter_size = conv_param['filter_size']\n",
    "        filter_pad = conv_param['pad']\n",
    "        filter_stride = conv_param['stride']\n",
    "        input_size = input_dim[1]\n",
    "        print(input_size)\n",
    "        \n",
    "        conv_output_size = (input_size - filter_size + 2*filter_pad) / filter_stride + 1\n",
    "        pool_output_size = int(filter_num * (conv_output_size / 2) * (conv_output_size / 2))\n",
    "        \n",
    "        self.params = {}\n",
    "        self.params['W1'] = weight_init_std * np.random.randn(filter_num, input_dim[0], filter_size, filter_size)\n",
    "        self.params['b1'] = np.zeros(filter_num)\n",
    "        self.params['W2'] = weight_init_std * np.random.randn(hidden_size, output_size)\n",
    "        self.params['b3'] = np.zeros(output_size)\n",
    "        \n",
    "        self.layers = OrderedDict()\n",
    "        self.layers['Conv1'] = Convolution(self.params['W1'],\n",
    "                                           self.params['b1'],\n",
    "                                           conv_param['stride']\n",
    "                                           conv_param['pad'])\n",
    "        self.layers['Relu'] = Relu()\n",
    "        self.layers['Pool'] = Pooling(pool_h=2, stride=2)\n",
    "        self.layers['Affine1'] = Affine(self.params['W2'], self.params['b2'])\n",
    "        self.layers['Relu2'] = Relu()\n",
    "        self.layers['Affine2'] = Affine(self.params['W3'],\n",
    "                                       self.params['b3'])\n",
    "        self.last_layer = SoftmaxwithLoss()\n",
    "        \n",
    "        \n",
    "        def predict(self, x):\n",
    "            for layer in self.layers.values():\n",
    "                x = layer.forward(x)\n",
    "            return x\n",
    "        \n",
    "        def ;loss(self, x, t):\n",
    "            y = self.predict(x)\n",
    "            return self.lastLayer.forward(y, t)\n",
    "        \n",
    "        def gradient(self, x, t):\n",
    "            # forward\n",
    "            self.loss(x, t)\n",
    "            \n",
    "            # backward\n",
    "            dout = 1\n",
    "            dout = self.lastLayer.backward(dout)\n",
    "            \n",
    "            layers = List(self.layers.value())\n",
    "            layers.reverse()\n",
    "            for layer in layers:\n",
    "                dout = layer.backward(dout)\n",
    "                \n",
    "                # 設定\n",
    "                grads = {}\n",
    "                grads['W1'] = self.layers['conv1'].dW\n",
    "                grads['b1'] = self.layers['conv1'].db\n",
    "                grads['W2'] = self.layers['Affine1'].dW\n",
    "                grads['b2'] = self.layers['Affine1'].db\n",
    "                grads['W3'] = self.layers['Affine2'].dW\n",
    "                grads['b3'] = self.layers['Affine2'].db\n",
    "                \n",
    "                return grads"
   ]
  }
 ],
 "metadata": {
  "kernelspec": {
   "display_name": "Python 3",
   "language": "python",
   "name": "python3"
  },
  "language_info": {
   "codemirror_mode": {
    "name": "ipython",
    "version": 3
   },
   "file_extension": ".py",
   "mimetype": "text/x-python",
   "name": "python",
   "nbconvert_exporter": "python",
   "pygments_lexer": "ipython3",
   "version": "3.6.4"
  }
 },
 "nbformat": 4,
 "nbformat_minor": 2
}
